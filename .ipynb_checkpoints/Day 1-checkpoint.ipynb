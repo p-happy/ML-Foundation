{
 "cells": [
  {
   "cell_type": "markdown",
   "id": "edef6579",
   "metadata": {},
   "source": [
    "## Program to add two numbers."
   ]
  },
  {
   "cell_type": "code",
   "execution_count": 21,
   "id": "d08bad06",
   "metadata": {},
   "outputs": [
    {
     "name": "stdout",
     "output_type": "stream",
     "text": [
      "62\n"
     ]
    }
   ],
   "source": [
    "first=28\n",
    "second=34\n",
    "third=first+second   # if you want then you can print first+second directly using print function.\n",
    "print(third)"
   ]
  },
  {
   "cell_type": "markdown",
   "id": "15ed7c46",
   "metadata": {},
   "source": [
    "## Program to find maximum of two numbers"
   ]
  },
  {
   "cell_type": "code",
   "execution_count": 23,
   "id": "2b1d0e66",
   "metadata": {},
   "outputs": [
    {
     "name": "stdout",
     "output_type": "stream",
     "text": [
      "35 is greater number\n"
     ]
    }
   ],
   "source": [
    "a=11\n",
    "b=35\n",
    "if a>b:\n",
    "    print(a,'is greater number')\n",
    "else:\n",
    "    print(b,\"is greater number\")"
   ]
  },
  {
   "cell_type": "markdown",
   "id": "036ffc35",
   "metadata": {},
   "source": [
    "## Program to find Simple Interest"
   ]
  },
  {
   "cell_type": "code",
   "execution_count": 16,
   "id": "89a5455e",
   "metadata": {},
   "outputs": [
    {
     "name": "stdout",
     "output_type": "stream",
     "text": [
      "1200.0\n"
     ]
    }
   ],
   "source": [
    "ppl=4000\n",
    "r=3\n",
    "t=10\n",
    "si=(ppl*r*t)/100\n",
    "print(si)"
   ]
  },
  {
   "cell_type": "markdown",
   "id": "53c44b8b",
   "metadata": {},
   "source": [
    "## Program to find Compound Interest "
   ]
  },
  {
   "cell_type": "code",
   "execution_count": 17,
   "id": "73acbce8",
   "metadata": {},
   "outputs": [
    {
     "name": "stdout",
     "output_type": "stream",
     "text": [
      "3646.5187500000006\n"
     ]
    }
   ],
   "source": [
    "p=3000\n",
    "r=5\n",
    "t=4\n",
    "ci=p*((1+(r/100))**t)\n",
    "print(ci)"
   ]
  },
  {
   "cell_type": "markdown",
   "id": "16481d5a",
   "metadata": {},
   "source": [
    "## Program to check whether a number is divisible by 2 or not"
   ]
  },
  {
   "cell_type": "code",
   "execution_count": 18,
   "id": "7062238a",
   "metadata": {},
   "outputs": [
    {
     "name": "stdout",
     "output_type": "stream",
     "text": [
      "232 is divisible by 2\n"
     ]
    }
   ],
   "source": [
    "num=232\n",
    "if num%2==0:\n",
    "    print(num,\"is divisible by 2\")\n",
    "else:\n",
    "    print(num,\"is not divisible by 2\")\n",
    "    "
   ]
  }
 ],
 "metadata": {
  "kernelspec": {
   "display_name": "Python 3 (ipykernel)",
   "language": "python",
   "name": "python3"
  },
  "language_info": {
   "codemirror_mode": {
    "name": "ipython",
    "version": 3
   },
   "file_extension": ".py",
   "mimetype": "text/x-python",
   "name": "python",
   "nbconvert_exporter": "python",
   "pygments_lexer": "ipython3",
   "version": "3.11.2"
  }
 },
 "nbformat": 4,
 "nbformat_minor": 5
}
