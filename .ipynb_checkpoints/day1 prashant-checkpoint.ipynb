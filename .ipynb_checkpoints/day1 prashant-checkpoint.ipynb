{
 "cells": [
  {
   "cell_type": "markdown",
   "id": "0bbe175f",
   "metadata": {},
   "source": [
    "## python program to add two numbers"
   ]
  },
  {
   "cell_type": "code",
   "execution_count": 1,
   "id": "187f02b1",
   "metadata": {},
   "outputs": [
    {
     "name": "stdout",
     "output_type": "stream",
     "text": [
      "134\n"
     ]
    }
   ],
   "source": [
    "first=78\n",
    "second=56\n",
    "print(first+second)"
   ]
  },
  {
   "cell_type": "markdown",
   "id": "052a3f75",
   "metadata": {},
   "source": [
    "## program of maximum of two number in python"
   ]
  },
  {
   "cell_type": "code",
   "execution_count": 2,
   "id": "b8b34d43",
   "metadata": {},
   "outputs": [
    {
     "name": "stdout",
     "output_type": "stream",
     "text": [
      "a is greater number\n"
     ]
    }
   ],
   "source": [
    "a=99\n",
    "b=56\n",
    "if a>b:\n",
    "    print('a is greater number')\n",
    "else:print('b is greater number ')   "
   ]
  },
  {
   "cell_type": "markdown",
   "id": "af582527",
   "metadata": {},
   "source": [
    "## program for simple interest"
   ]
  },
  {
   "cell_type": "code",
   "execution_count": 4,
   "id": "bef3c143",
   "metadata": {},
   "outputs": [
    {
     "name": "stdout",
     "output_type": "stream",
     "text": [
      "1800.0\n"
     ]
    }
   ],
   "source": [
    "p=9000\n",
    "r=5\n",
    "t=4\n",
    "si=(p*r*t)/100\n",
    "print(si)"
   ]
  },
  {
   "cell_type": "markdown",
   "id": "b218897f",
   "metadata": {},
   "source": [
    "## PROGRAM FOR COMPOUND INTEREST"
   ]
  },
  {
   "cell_type": "code",
   "execution_count": 5,
   "id": "9d86a792",
   "metadata": {},
   "outputs": [
    {
     "name": "stdout",
     "output_type": "stream",
     "text": [
      "10939.556250000001\n"
     ]
    }
   ],
   "source": [
    "p=9000\n",
    "r=5\n",
    "t=4\n",
    "ci=p*((1+(r/100))**t)\n",
    "print(ci)"
   ]
  },
  {
   "cell_type": "markdown",
   "id": "59a56233",
   "metadata": {},
   "source": [
    "## program to check a number is divisible by 2 or not"
   ]
  },
  {
   "cell_type": "code",
   "execution_count": 8,
   "id": "045f2834",
   "metadata": {},
   "outputs": [
    {
     "name": "stdout",
     "output_type": "stream",
     "text": [
      "562 is divisible by 2\n"
     ]
    }
   ],
   "source": [
    "num=562\n",
    "if num%2==0:\n",
    "    print(num,'is divisible by 2')\n",
    "else:\n",
    "    print(num,'is not divisible by 2')"
   ]
  },
  {
   "cell_type": "code",
   "execution_count": null,
   "id": "a68f6d42",
   "metadata": {},
   "outputs": [],
   "source": []
  }
 ],
 "metadata": {
  "kernelspec": {
   "display_name": "Python 3 (ipykernel)",
   "language": "python",
   "name": "python3"
  },
  "language_info": {
   "codemirror_mode": {
    "name": "ipython",
    "version": 3
   },
   "file_extension": ".py",
   "mimetype": "text/x-python",
   "name": "python",
   "nbconvert_exporter": "python",
   "pygments_lexer": "ipython3",
   "version": "3.9.13"
  }
 },
 "nbformat": 4,
 "nbformat_minor": 5
}
