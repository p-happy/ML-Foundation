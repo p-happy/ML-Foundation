{
 "cells": [
  {
   "cell_type": "code",
   "execution_count": 12,
   "id": "12bd62e1",
   "metadata": {},
   "outputs": [],
   "source": [
    "class Student():\n",
    "    def __init__(self,name,rollno,blood_group):\n",
    "        self.name=name\n",
    "        self.rollno=rollno\n",
    "        self.blood_group=blood_group\n",
    "    def result(self,marks):\n",
    "        print(f'the student whose name is {self.name} scored{marks} percent')\n"
   ]
  },
  {
   "cell_type": "code",
   "execution_count": 14,
   "id": "f2eca83f",
   "metadata": {},
   "outputs": [
    {
     "data": {
      "text/plain": [
       "'prashant'"
      ]
     },
     "execution_count": 14,
     "metadata": {},
     "output_type": "execute_result"
    }
   ],
   "source": [
    "std1=Student('prashant',1,'o+')\n",
    "std1.name"
   ]
  },
  {
   "cell_type": "code",
   "execution_count": 15,
   "id": "a3f52184",
   "metadata": {},
   "outputs": [
    {
     "data": {
      "text/plain": [
       "'o+'"
      ]
     },
     "execution_count": 15,
     "metadata": {},
     "output_type": "execute_result"
    }
   ],
   "source": [
    "std1.blood_group"
   ]
  },
  {
   "cell_type": "code",
   "execution_count": 19,
   "id": "48c1a954",
   "metadata": {},
   "outputs": [
    {
     "name": "stdout",
     "output_type": "stream",
     "text": [
      "the student whose name is prashant scored50 percent\n"
     ]
    }
   ],
   "source": [
    "std1.result(50)"
   ]
  },
  {
   "cell_type": "code",
   "execution_count": 17,
   "id": "6d1b59da",
   "metadata": {},
   "outputs": [
    {
     "name": "stdout",
     "output_type": "stream",
     "text": [
      "the student whose name is prashant scored100 percent\n"
     ]
    }
   ],
   "source": [
    "std1.result(100)"
   ]
  },
  {
   "cell_type": "code",
   "execution_count": 20,
   "id": "422af061",
   "metadata": {},
   "outputs": [
    {
     "data": {
      "text/plain": [
       "1"
      ]
     },
     "execution_count": 20,
     "metadata": {},
     "output_type": "execute_result"
    }
   ],
   "source": [
    "std1.rollno"
   ]
  },
  {
   "cell_type": "code",
   "execution_count": null,
   "id": "a184357d",
   "metadata": {},
   "outputs": [],
   "source": []
  }
 ],
 "metadata": {
  "kernelspec": {
   "display_name": "Python 3 (ipykernel)",
   "language": "python",
   "name": "python3"
  },
  "language_info": {
   "codemirror_mode": {
    "name": "ipython",
    "version": 3
   },
   "file_extension": ".py",
   "mimetype": "text/x-python",
   "name": "python",
   "nbconvert_exporter": "python",
   "pygments_lexer": "ipython3",
   "version": "3.9.13"
  }
 },
 "nbformat": 4,
 "nbformat_minor": 5
}
