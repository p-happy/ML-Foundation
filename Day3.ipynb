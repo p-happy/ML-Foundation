{
 "cells": [
  {
   "cell_type": "markdown",
   "id": "ab708335",
   "metadata": {},
   "source": [
    "## 1. Print all the words in a sentence starting with certain lettar."
   ]
  },
  {
   "cell_type": "code",
   "execution_count": 1,
   "id": "fd1741b4",
   "metadata": {},
   "outputs": [
    {
     "name": "stdout",
     "output_type": "stream",
     "text": [
      "Hello\n",
      "heart\n"
     ]
    }
   ],
   "source": [
    "a=\"Hello friends I am a good monster with a golden heart\"\n",
    "word=a.split()\n",
    "# print(word)\n",
    "for i in word:\n",
    "    if (i[0] in 'Hh'):\n",
    "        print(i) "
   ]
  },
  {
   "cell_type": "markdown",
   "id": "f043c7d6",
   "metadata": {},
   "source": [
    "## 2. List all numbers between 1 and 100 divisible by 3."
   ]
  },
  {
   "cell_type": "code",
   "execution_count": 2,
   "id": "fd73e2ad",
   "metadata": {},
   "outputs": [
    {
     "name": "stdout",
     "output_type": "stream",
     "text": [
      "3\t6\t9\t12\t15\t18\t21\t24\t27\t30\t33\t36\t39\t42\t45\t48\t51\t54\t57\t60\t63\t66\t69\t72\t75\t78\t81\t84\t87\t90\t93\t96\t99\t"
     ]
    }
   ],
   "source": [
    "for p in range(1,100,1):\n",
    "    if p%3==0:\n",
    "        print(p,end='\\t')"
   ]
  },
  {
   "cell_type": "markdown",
   "id": "fd431b34",
   "metadata": {},
   "source": [
    "## 3. Print every word in sentence with even number of letters."
   ]
  },
  {
   "cell_type": "code",
   "execution_count": 3,
   "id": "e889ac34",
   "metadata": {},
   "outputs": [
    {
     "name": "stdout",
     "output_type": "stream",
     "text": [
      "am\n",
      "good\n",
      "with\n",
      "golden\n"
     ]
    }
   ],
   "source": [
    "b=\"Hello friends I am a good monster with a golden heart\"\n",
    "newWord=b.split()\n",
    "\n",
    "# print(newWord)\n",
    "\n",
    "for h in newWord:\n",
    "    if len(h)%2==0:\n",
    "        print(h)"
   ]
  },
  {
   "cell_type": "markdown",
   "id": "4b79fa97",
   "metadata": {},
   "source": [
    "### 4. Write a program that prints numbers from 1 to 100, but if number is divisible by 3 it prints nielit, for number divisible by 7 it  prints python and for a number divisible by both 3 and 7 it prints data science?\n"
   ]
  },
  {
   "cell_type": "code",
   "execution_count": 4,
   "id": "69d91913",
   "metadata": {},
   "outputs": [
    {
     "name": "stdout",
     "output_type": "stream",
     "text": [
      "3 : NIELIT\t6 : NIELIT\t7 : PYTHON\t9 : NIELIT\t12 : NIELIT\t14 : PYTHON\t15 : NIELIT\t18 : NIELIT\t21 : NIELIT\t24 : NIELIT\t27 : NIELIT\t28 : PYTHON\t30 : NIELIT\t33 : NIELIT\t35 : PYTHON\t36 : NIELIT\t39 : NIELIT\t42 : NIELIT\t45 : NIELIT\t48 : NIELIT\t49 : PYTHON\t51 : NIELIT\t54 : NIELIT\t56 : PYTHON\t57 : NIELIT\t60 : NIELIT\t63 : NIELIT\t66 : NIELIT\t69 : NIELIT\t70 : PYTHON\t72 : NIELIT\t75 : NIELIT\t77 : PYTHON\t78 : NIELIT\t81 : NIELIT\t84 : NIELIT\t87 : NIELIT\t90 : NIELIT\t91 : PYTHON\t93 : NIELIT\t96 : NIELIT\t98 : PYTHON\t99 : NIELIT\t"
     ]
    }
   ],
   "source": [
    "for p in range(1,100,1):\n",
    "    if p%3==0:\n",
    "        print(p,': NIELIT',end='\\t')\n",
    "    elif p%7==0:\n",
    "        print(p,': PYTHON',end='\\t')\n",
    "    elif ((p%7==0) and (p%3==0)):\n",
    "        print(p,': DATA Science',end='\\t')"
   ]
  },
  {
   "cell_type": "markdown",
   "id": "6956b607",
   "metadata": {},
   "source": [
    "## 5. Store all the integers between 1to 100 divisible by 7 in a list."
   ]
  },
  {
   "cell_type": "code",
   "execution_count": 5,
   "id": "14fb1760",
   "metadata": {},
   "outputs": [
    {
     "name": "stdout",
     "output_type": "stream",
     "text": [
      "[7, 14, 21, 28, 35, 42, 49, 56, 63, 70, 77, 84, 91, 98]\n"
     ]
    }
   ],
   "source": [
    "list1=[]\n",
    "for l in range(1,100):\n",
    "    if l%7==0:\n",
    "        list1.append(l)\n",
    "print(list1)"
   ]
  },
  {
   "cell_type": "markdown",
   "id": "5cf2652b",
   "metadata": {},
   "source": [
    "## 6.  For a list given below, create a new list containing only those elements appearing odd number of times? [1,2,1,3,4,2,1,2,1,3,4,5,3,6,7,6,8,6]"
   ]
  },
  {
   "cell_type": "code",
   "execution_count": 6,
   "id": "05e5d0bb",
   "metadata": {},
   "outputs": [
    {
     "name": "stdout",
     "output_type": "stream",
     "text": [
      "[2, 3, 5, 6, 7, 8]\n"
     ]
    }
   ],
   "source": [
    "Glist=[1,2,1,3,4,2,1,2,1,3,4,5,3,6,7,6,8,6]\n",
    "count=0\n",
    "newList=[]\n",
    "for e in Glist:\n",
    "    for p in Glist:\n",
    "        if p==e:\n",
    "            count+=1\n",
    "    if count%2==1:\n",
    "        newList.append(e)\n",
    "    count=0\n",
    "newList=list(set(newList))\n",
    "print(newList)"
   ]
  },
  {
   "cell_type": "code",
   "execution_count": null,
   "id": "1b703522",
   "metadata": {},
   "outputs": [],
   "source": []
  }
 ],
 "metadata": {
  "kernelspec": {
   "display_name": "Python 3 (ipykernel)",
   "language": "python",
   "name": "python3"
  },
  "language_info": {
   "codemirror_mode": {
    "name": "ipython",
    "version": 3
   },
   "file_extension": ".py",
   "mimetype": "text/x-python",
   "name": "python",
   "nbconvert_exporter": "python",
   "pygments_lexer": "ipython3",
   "version": "3.9.13"
  }
 },
 "nbformat": 4,
 "nbformat_minor": 5
}
